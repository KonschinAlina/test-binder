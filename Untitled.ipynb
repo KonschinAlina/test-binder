{
 "cells": [
  {
   "cell_type": "code",
   "execution_count": null,
   "id": "0f209916-fd75-46c8-a514-62ea05fd6181",
   "metadata": {},
   "outputs": [],
   "source": []
  }
 ],
 "metadata": {
  "kernelspec": {
   "display_name": "KnowRob",
   "language": "",
   "name": "jknowrob"
  },
  "language_info": {
   "mimetype": "text/plain",
   "name": "swipl"
  }
 },
 "nbformat": 4,
 "nbformat_minor": 5
}
