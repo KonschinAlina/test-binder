{
 "cells": [
  {
   "cell_type": "code",
   "execution_count": 11,
   "id": "32599bd8-a591-4ef9-b29f-071fca91fe6e",
   "metadata": {
    "execution": {
     "iopub.execute_input": "2025-01-22T17:42:07.731806Z",
     "iopub.status.busy": "2025-01-22T17:42:07.731318Z",
     "iopub.status.idle": "2025-01-22T17:42:07.753692Z",
     "shell.execute_reply": "2025-01-22T17:42:07.752370Z",
     "shell.execute_reply.started": "2025-01-22T17:42:07.731773Z"
    },
    "tags": []
   },
   "outputs": [
    {
     "ename": "ModuleNotFoundError",
     "evalue": "No module named 'ros.viz_marker_publisher'",
     "output_type": "error",
     "traceback": [
      "\u001b[0;31m---------------------------------------------------------------------------\u001b[0m",
      "\u001b[0;31mModuleNotFoundError\u001b[0m                       Traceback (most recent call last)",
      "Cell \u001b[0;32mIn [11], line 5\u001b[0m\n\u001b[1;32m      1\u001b[0m \u001b[38;5;28;01mimport\u001b[39;00m \u001b[38;5;21;01msys\u001b[39;00m\n\u001b[1;32m      3\u001b[0m sys\u001b[38;5;241m.\u001b[39mpath\u001b[38;5;241m.\u001b[39minsert(\u001b[38;5;241m0\u001b[39m, \u001b[38;5;124m'\u001b[39m\u001b[38;5;124m/home/jovyan/work/src/ros\u001b[39m\u001b[38;5;124m'\u001b[39m)\n\u001b[0;32m----> 5\u001b[0m \u001b[38;5;28;01mfrom\u001b[39;00m \u001b[38;5;21;01mros\u001b[39;00m\u001b[38;5;21;01m.\u001b[39;00m\u001b[38;5;21;01mviz_marker_publisher\u001b[39;00m \u001b[38;5;28;01mimport\u001b[39;00m VizMarkerPublisher\n\u001b[1;32m      7\u001b[0m viz \u001b[38;5;241m=\u001b[39m VizMarkerPublisher(interval\u001b[38;5;241m=\u001b[39m\u001b[38;5;241m0.25\u001b[39m)\n",
      "\u001b[0;31mModuleNotFoundError\u001b[0m: No module named 'ros.viz_marker_publisher'"
     ]
    }
   ],
   "source": [
    "import sys\n",
    "\n",
    "sys.path.insert(0, '/home/jovyan/work/src/ros')\n",
    "\n",
    "from ros.viz_marker_publisher import VizMarkerPublisher\n",
    "\n",
    "viz = VizMarkerPublisher(interval=0.25)\n"
   ]
  },
  {
   "cell_type": "code",
   "execution_count": 2,
   "id": "93bf8e97-0dbb-425d-aa94-a75e9fde8935",
   "metadata": {
    "execution": {
     "iopub.execute_input": "2025-01-22T17:35:08.722044Z",
     "iopub.status.busy": "2025-01-22T17:35:08.721562Z",
     "iopub.status.idle": "2025-01-22T17:35:08.744764Z",
     "shell.execute_reply": "2025-01-22T17:35:08.743526Z",
     "shell.execute_reply.started": "2025-01-22T17:35:08.722010Z"
    },
    "tags": []
   },
   "outputs": [
    {
     "ename": "ModuleNotFoundError",
     "evalue": "No module named 'knowrob_interface'",
     "output_type": "error",
     "traceback": [
      "\u001b[0;31m---------------------------------------------------------------------------\u001b[0m",
      "\u001b[0;31mModuleNotFoundError\u001b[0m                       Traceback (most recent call last)",
      "Cell \u001b[0;32mIn [2], line 1\u001b[0m\n\u001b[0;32m----> 1\u001b[0m \u001b[38;5;28;01mfrom\u001b[39;00m \u001b[38;5;21;01mknowrob_interface\u001b[39;00m\u001b[38;5;21;01m.\u001b[39;00m\u001b[38;5;21;01mrosprolog_interface\u001b[39;00m \u001b[38;5;28;01mimport\u001b[39;00m Prolog \u001b[38;5;28;01mas\u001b[39;00m knowrob_client\n\u001b[1;32m      4\u001b[0m knowrob \u001b[38;5;241m=\u001b[39m knowrob_client()\n",
      "\u001b[0;31mModuleNotFoundError\u001b[0m: No module named 'knowrob_interface'"
     ]
    }
   ],
   "source": [
    "from knowrob_interface.rosprolog_interface import Prolog as knowrob_client\n",
    "\n",
    "\n",
    "knowrob = knowrob_client()"
   ]
  }
 ],
 "metadata": {
  "kernelspec": {
   "display_name": "Python 3 (ipykernel)",
   "language": "python",
   "name": "python3"
  },
  "language_info": {
   "codemirror_mode": {
    "name": "ipython",
    "version": 3
   },
   "file_extension": ".py",
   "mimetype": "text/x-python",
   "name": "python",
   "nbconvert_exporter": "python",
   "pygments_lexer": "ipython3",
   "version": "3.10.6"
  }
 },
 "nbformat": 4,
 "nbformat_minor": 5
}
