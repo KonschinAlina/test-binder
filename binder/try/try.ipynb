{
 "cells": [
  {
   "cell_type": "code",
   "execution_count": 1,
   "id": "32599bd8-a591-4ef9-b29f-071fca91fe6e",
   "metadata": {
    "execution": {
     "iopub.execute_input": "2025-01-25T16:02:26.938694Z",
     "iopub.status.busy": "2025-01-25T16:02:26.938405Z",
     "iopub.status.idle": "2025-01-25T16:02:28.221716Z",
     "shell.execute_reply": "2025-01-25T16:02:28.220513Z",
     "shell.execute_reply.started": "2025-01-25T16:02:26.938664Z"
    },
    "tags": []
   },
   "outputs": [
    {
     "ename": "ModuleNotFoundError",
     "evalue": "No module named 'datastructures.world_entity'",
     "output_type": "error",
     "traceback": [
      "\u001b[0;31m---------------------------------------------------------------------------\u001b[0m",
      "\u001b[0;31mModuleNotFoundError\u001b[0m                       Traceback (most recent call last)",
      "Cell \u001b[0;32mIn [1], line 3\u001b[0m\n\u001b[1;32m      1\u001b[0m \u001b[38;5;28;01mimport\u001b[39;00m \u001b[38;5;21;01msys\u001b[39;00m\n\u001b[1;32m      2\u001b[0m sys\u001b[38;5;241m.\u001b[39mpath\u001b[38;5;241m.\u001b[39mappend(\u001b[38;5;124m\"\u001b[39m\u001b[38;5;124m/home/jovyan/work/src/ros_utils\u001b[39m\u001b[38;5;124m\"\u001b[39m)\n\u001b[0;32m----> 3\u001b[0m \u001b[38;5;28;01mfrom\u001b[39;00m \u001b[38;5;21;01mviz_marker_publisher\u001b[39;00m\u001b[38;5;21;01m.\u001b[39;00m\u001b[38;5;21;01mviz_marker_publisher\u001b[39;00m \u001b[38;5;28;01mimport\u001b[39;00m VizMarkerPublisher\n\u001b[1;32m      5\u001b[0m \u001b[38;5;66;03m#/opt/conda/bin/python -m pip install /src/ros_utils/viz_marker_publisher/viz_marker_publisher\u001b[39;00m\n\u001b[1;32m      6\u001b[0m \n\u001b[1;32m      7\u001b[0m \u001b[38;5;66;03m#!pip install src/ros_utils/viz_marker_publisher\u001b[39;00m\n\u001b[1;32m      8\u001b[0m \u001b[38;5;66;03m#!pip show viz_marker_publisher\u001b[39;00m\n\u001b[1;32m      9\u001b[0m \u001b[38;5;66;03m#from ros.viz_marker_publisher import VizMarkerPublisher\u001b[39;00m\n\u001b[1;32m     11\u001b[0m viz \u001b[38;5;241m=\u001b[39m VizMarkerPublisher(interval\u001b[38;5;241m=\u001b[39m\u001b[38;5;241m0.25\u001b[39m)\n",
      "File \u001b[0;32m~/work/src/ros_utils/viz_marker_publisher/viz_marker_publisher.py:16\u001b[0m\n\u001b[1;32m     14\u001b[0m \u001b[38;5;28;01mfrom\u001b[39;00m \u001b[38;5;21;01mdatastructures\u001b[39;00m\u001b[38;5;21;01m.\u001b[39;00m\u001b[38;5;21;01mpose\u001b[39;00m \u001b[38;5;28;01mimport\u001b[39;00m Pose, Transform\n\u001b[1;32m     15\u001b[0m \u001b[38;5;66;03m#from designator import ObjectDesignatorDescription\u001b[39;00m\n\u001b[0;32m---> 16\u001b[0m \u001b[38;5;28;01mfrom\u001b[39;00m \u001b[38;5;21;01mdatastructures\u001b[39;00m\u001b[38;5;21;01m.\u001b[39;00m\u001b[38;5;21;01mworld\u001b[39;00m \u001b[38;5;28;01mimport\u001b[39;00m World\n\u001b[1;32m     19\u001b[0m \u001b[38;5;28;01mclass\u001b[39;00m \u001b[38;5;21;01mVizMarkerPublisher\u001b[39;00m:\n\u001b[1;32m     20\u001b[0m     \u001b[38;5;124;03m\"\"\"\u001b[39;00m\n\u001b[1;32m     21\u001b[0m \u001b[38;5;124;03m    Publishes an Array of visualization marker which represent the situation in the World\u001b[39;00m\n\u001b[1;32m     22\u001b[0m \u001b[38;5;124;03m    \"\"\"\u001b[39;00m\n",
      "File \u001b[0;32m~/work/src/ros_utils/datastructures/world.py:27\u001b[0m\n\u001b[1;32m     25\u001b[0m \u001b[38;5;28;01mfrom\u001b[39;00m \u001b[38;5;21;01mdatastructures\u001b[39;00m\u001b[38;5;21;01m.\u001b[39;00m\u001b[38;5;21;01menums\u001b[39;00m \u001b[38;5;28;01mimport\u001b[39;00m JointType, WorldMode, Arms\n\u001b[1;32m     26\u001b[0m \u001b[38;5;66;03m#from datastructures.pose import Pose, Transform\u001b[39;00m\n\u001b[0;32m---> 27\u001b[0m \u001b[38;5;28;01mfrom\u001b[39;00m \u001b[38;5;21;01mdatastructures\u001b[39;00m\u001b[38;5;21;01m.\u001b[39;00m\u001b[38;5;21;01mworld_entity\u001b[39;00m \u001b[38;5;28;01mimport\u001b[39;00m StateEntity, PhysicalBody, WorldEntity\n\u001b[1;32m     28\u001b[0m \u001b[38;5;28;01mfrom\u001b[39;00m \u001b[38;5;21;01m.\u001b[39;00m\u001b[38;5;21;01m.\u001b[39;00m\u001b[38;5;21;01mfailures\u001b[39;00m \u001b[38;5;28;01mimport\u001b[39;00m ProspectionObjectNotFound, WorldObjectNotFound\n\u001b[1;32m     29\u001b[0m \u001b[38;5;66;03m#from local_transformer import LocalTransformer\u001b[39;00m\n\u001b[1;32m     30\u001b[0m \u001b[38;5;66;03m#from robot_description import RobotDescription\u001b[39;00m\n\u001b[1;32m     31\u001b[0m \u001b[38;5;66;03m#from ros.data_types import Time\u001b[39;00m\n\u001b[0;32m   (...)\u001b[0m\n\u001b[1;32m     34\u001b[0m \u001b[38;5;66;03m#                                         validate_joint_position, validate_multiple_joint_positions,\u001b[39;00m\n\u001b[1;32m     35\u001b[0m \u001b[38;5;66;03m#                                         validate_object_pose, validate_multiple_object_poses)\u001b[39;00m\n",
      "\u001b[0;31mModuleNotFoundError\u001b[0m: No module named 'datastructures.world_entity'"
     ]
    }
   ],
   "source": [
    "import sys\n",
    "sys.path.append(\"/home/jovyan/work/src/ros_utils\")\n",
    "from viz_marker_publisher.viz_marker_publisher import VizMarkerPublisher\n",
    "\n",
    "#/opt/conda/bin/python -m pip install /src/ros_utils/viz_marker_publisher/viz_marker_publisher\n",
    "\n",
    "#!pip install src/ros_utils/viz_marker_publisher\n",
    "#!pip show viz_marker_publisher\n",
    "#from ros.viz_marker_publisher import VizMarkerPublisher\n",
    "\n",
    "viz = VizMarkerPublisher(interval=0.25)\n"
   ]
  },
  {
   "cell_type": "code",
   "execution_count": null,
   "id": "93bf8e97-0dbb-425d-aa94-a75e9fde8935",
   "metadata": {
    "execution": {
     "iopub.status.busy": "2025-01-25T16:02:28.222352Z",
     "iopub.status.idle": "2025-01-25T16:02:28.222538Z",
     "shell.execute_reply": "2025-01-25T16:02:28.222455Z",
     "shell.execute_reply.started": "2025-01-25T16:02:28.222447Z"
    },
    "tags": []
   },
   "outputs": [],
   "source": [
    "from knowrob_interface.rosprolog_interface import Prolog as knowrob_client\n",
    "\n",
    "\n",
    "knowrob = knowrob_client()"
   ]
  }
 ],
 "metadata": {
  "kernelspec": {
   "display_name": "Python 3 (ipykernel)",
   "language": "python",
   "name": "python3"
  },
  "language_info": {
   "codemirror_mode": {
    "name": "ipython",
    "version": 3
   },
   "file_extension": ".py",
   "mimetype": "text/x-python",
   "name": "python",
   "nbconvert_exporter": "python",
   "pygments_lexer": "ipython3",
   "version": "3.10.6"
  }
 },
 "nbformat": 4,
 "nbformat_minor": 5
}
