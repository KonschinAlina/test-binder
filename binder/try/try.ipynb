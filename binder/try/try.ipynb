{
 "cells": [
  {
   "cell_type": "code",
   "execution_count": 1,
   "id": "32599bd8-a591-4ef9-b29f-071fca91fe6e",
   "metadata": {
    "execution": {
     "iopub.execute_input": "2025-01-22T11:48:30.833802Z",
     "iopub.status.busy": "2025-01-22T11:48:30.833448Z",
     "iopub.status.idle": "2025-01-22T11:48:30.844776Z",
     "shell.execute_reply": "2025-01-22T11:48:30.843858Z",
     "shell.execute_reply.started": "2025-01-22T11:48:30.833767Z"
    },
    "tags": []
   },
   "outputs": [
    {
     "name": "stdout",
     "output_type": "stream",
     "text": [
      "hi\n"
     ]
    }
   ],
   "source": [
    "print(\"hi\")"
   ]
  }
 ],
 "metadata": {
  "kernelspec": {
   "display_name": "Python 3 (ipykernel)",
   "language": "python",
   "name": "python3"
  },
  "language_info": {
   "codemirror_mode": {
    "name": "ipython",
    "version": 3
   },
   "file_extension": ".py",
   "mimetype": "text/x-python",
   "name": "python",
   "nbconvert_exporter": "python",
   "pygments_lexer": "ipython3",
   "version": "3.10.6"
  }
 },
 "nbformat": 4,
 "nbformat_minor": 5
}

