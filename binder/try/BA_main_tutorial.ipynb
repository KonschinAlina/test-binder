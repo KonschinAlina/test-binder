{
 "cells": [
  {
   "cell_type": "code",
   "execution_count": 1,
   "id": "b55184a4-cee4-4421-93d9-505027cc92da",
   "metadata": {},
   "outputs": [],
   "source": [
    "# %%bash --bg\n",
    "# export DISABLE_ROS1_EOL_WARNINGS=1\n",
    "# rviz --fullscreen -d /home/jovyan/work/binder/rviz_configs/BA_project_setup.rviz"
   ]
  },
  {
   "cell_type": "code",
   "execution_count": 2,
   "id": "32599bd8-a591-4ef9-b29f-071fca91fe6e",
   "metadata": {
    "scrolled": true,
    "tags": []
   },
   "outputs": [],
   "source": [
    "import sys\n",
    "import rospy\n",
    "\n",
    "from knowrob_ros.knowrob_ros_lib import (\n",
    "    KnowRobRosLib,\n",
    "    TripleQueryBuilder,\n",
    "    graph_answer_to_dict,\n",
    "    graph_answers_to_list,\n",
    "    get_default_modalframe,\n",
    ")\n",
    "from knowrob_ros.msg import (\n",
    "    AskAllResult,\n",
    "    AskIncrementalResult,\n",
    "    AskIncrementalNextSolutionResult,\n",
    "    AskOneResult,\n",
    "    TellResult,\n",
    ")\n",
    "\n",
    "from visualization_msgs.msg import Marker\n",
    "from geometry_msgs.msg import Point\n",
    "from std_msgs.msg import Header, ColorRGBA\n",
    "\n",
    "sys.path.append(\"/home/jovyan/work/src/lib\")\n",
    "import janus_swi as janus\n",
    "\n",
    "# import lib with functions for hightlighting, pose, trajectories\n",
    "sys.path.append(\"/home/jovyan/work/src/\") \n",
    "import lib.func_lib as fl\n",
    "t = fl.FuncLib()"
   ]
  },
  {
   "cell_type": "markdown",
   "id": "9d56390b-1ba1-47bd-a74b-e5cbc3d23d49",
   "metadata": {},
   "source": [
    "---\n",
    "### 1. Pose"
   ]
  },
  {
   "cell_type": "code",
   "execution_count": 3,
   "id": "f7fe73bd-662f-4307-bc87-2b9c0777c60c",
   "metadata": {},
   "outputs": [],
   "source": [
    "# #pose = t.object_pose('http://www.ease-crc.org/ont/SUTURO.owl#Chair')\n",
    "\n",
    "# chair_pose = t.object_pose('iai_kitchen/chair:chair:chair_center')\n",
    "# print(f\"chair pose: \\n {chair_pose}\")\n",
    "\n",
    "# pct_pose = t. object_pose('iai_kitchen/popcorn_table:popcorn_table:table_center')\n",
    "# print(f\"popcorn_table pose: \\n {pct_pose}\")"
   ]
  },
  {
   "cell_type": "markdown",
   "id": "835238b3-ed3c-4be1-83fa-1f6d3438724b",
   "metadata": {},
   "source": [
    "---\n",
    "---\n",
    "### 2. Highlight"
   ]
  },
  {
   "cell_type": "markdown",
   "id": "0cb7839b-30f6-40c2-a41a-41df1d4da1a0",
   "metadata": {},
   "source": [
    "**2.1 Chair**"
   ]
  },
  {
   "cell_type": "code",
   "execution_count": 4,
   "id": "4dd6554e-c427-4341-b7b4-e332444c0b4d",
   "metadata": {
    "scrolled": true
   },
   "outputs": [],
   "source": [
    "#xf = \"/opt/ros/overlay_ws/src/suturo_resources/suturo_resources/urdf/urdf_components/suturo_chair.urdf.xacro\"\n",
    "\n",
    "# high_chair = t.highlight(xf,\"chair\")\n",
    "# print(high_chair)"
   ]
  },
  {
   "cell_type": "markdown",
   "id": "ef34c88d-4f4f-4562-b1a4-d7b1bb0de8a4",
   "metadata": {},
   "source": [
    "**2.2 popcorn_table**"
   ]
  },
  {
   "cell_type": "code",
   "execution_count": 5,
   "id": "2b6a6968-0620-422d-98d8-50d4bc13b179",
   "metadata": {
    "scrolled": true
   },
   "outputs": [],
   "source": [
    "#xf = \"/opt/ros/overlay_ws/src/suturo_resources/suturo_resources/urdf/urdf_components/suturo_popcorn_table.urdf.xacro\"\n",
    "\n",
    "# high_pop_table = t.highlight(xf,\"popcorn_table\")\n",
    "# print(high_pop_table)"
   ]
  },
  {
   "cell_type": "markdown",
   "id": "a81711f9-bfd0-442f-bee5-ae355f33ecf9",
   "metadata": {},
   "source": [
    "**2.3 long_table**"
   ]
  },
  {
   "cell_type": "code",
   "execution_count": 6,
   "id": "1b805b02-16d9-408d-8b0e-e54eee493eb9",
   "metadata": {},
   "outputs": [],
   "source": [
    "#xf = \"/opt/ros/overlay_ws/src/suturo_resources/suturo_resources/urdf/urdf_components/suturo_table.urdf.xacro\"\n",
    "\n",
    "# high_long_table = t.highlight(xf, \"long_table\")\n",
    "# print(high_long_table)\n"
   ]
  },
  {
   "cell_type": "markdown",
   "id": "efa6acb9-f415-40be-8c4c-7447a0553755",
   "metadata": {},
   "source": [
    "**2.4 kitchen_island / kitchen_counter**"
   ]
  },
  {
   "cell_type": "code",
   "execution_count": 7,
   "id": "e29202bb-57d4-4e9a-b4b4-96a583659266",
   "metadata": {},
   "outputs": [],
   "source": [
    "#xf = \"/opt/ros/overlay_ws/src/suturo_resources/suturo_resources/urdf/urdf_components/suturo_table.urdf.xacro\"\n",
    "\n",
    "# high_kitchen_island = t.highlight(xf, \"kitchen_island\")\n",
    "# print(high_kitchen_island)"
   ]
  },
  {
   "cell_type": "markdown",
   "id": "6cbc7e96-3ff5-47e4-be7a-5818d09f17b8",
   "metadata": {},
   "source": [
    "**2.5 couch**"
   ]
  },
  {
   "cell_type": "code",
   "execution_count": 8,
   "id": "6cb92ecc-9900-4ea5-a41b-334ea061ab20",
   "metadata": {},
   "outputs": [],
   "source": [
    "#xf = \"/opt/ros/overlay_ws/src/suturo_resources/suturo_resources/urdf/urdf_components/suturo_couch.urdf.xacro\"\n",
    "\n",
    "#high_couch = t.highlight(xf, \"couch\")\n",
    "#print(high_couch)"
   ]
  },
  {
   "cell_type": "code",
   "execution_count": 9,
   "id": "c35f53de-dabe-4f9e-bdc3-fb13de356644",
   "metadata": {},
   "outputs": [],
   "source": [
    "# xf = \"/opt/ros/overlay_ws/src/suturo_resources/suturo_resources/urdf/urdf_components/suturo_dishwasher.urdf.xacro\"\n",
    "\n",
    "# high_dish = t.highlight(xf, \"dishwasher\")\n",
    "# print(high_dish)\n",
    "\n",
    "# ---------\n",
    "#high_dish2 = t.highlight(xf, \"suturo_dishwasher\")\n",
    "#print(high_dish2)"
   ]
  },
  {
   "cell_type": "markdown",
   "id": "d608ff23-1990-443f-b63d-5c2faaee0ee0",
   "metadata": {},
   "source": [
    "---\n",
    "---\n",
    "### 2.5 Highlight a list of objects"
   ]
  },
  {
   "cell_type": "markdown",
   "id": "b6954fec-73e1-4189-845e-8589426a22ac",
   "metadata": {},
   "source": [
    "**1. popcorn_table, long_table, kitchen_island**"
   ]
  },
  {
   "cell_type": "code",
   "execution_count": 10,
   "id": "af62d5af-0067-47d2-acbb-aea0e7eb431a",
   "metadata": {},
   "outputs": [],
   "source": [
    "# xf1 = \"/opt/ros/overlay_ws/src/suturo_resources/suturo_resources/urdf/urdf_components/suturo_table.urdf.xacro\"\n",
    "# xf2 = \"/opt/ros/overlay_ws/src/suturo_resources/suturo_resources/urdf/urdf_components/suturo_popcorn_table.urdf.xacro\"\n",
    "\n",
    "# xfs1 = [xf1,xf2,xf1]\n",
    "\n",
    "# obj_list1 = [\"long_table\", \"popcorn_table\", \"kitchen_island\"]\n",
    "# high_list1 = t.highlight_list(xfs1, obj_list1)\n",
    "# print(high_list1)"
   ]
  },
  {
   "cell_type": "markdown",
   "id": "76e31f10-5183-4434-8bcd-279cd2034ba7",
   "metadata": {},
   "source": [
    "**2. kitchen_island and couch**"
   ]
  },
  {
   "cell_type": "code",
   "execution_count": 11,
   "id": "113e0087-0f8c-440f-8588-fbda78b1da90",
   "metadata": {},
   "outputs": [],
   "source": [
    "# xf4 = \"/opt/ros/overlay_ws/src/suturo_resources/suturo_resources/urdf/urdf_components/suturo_table.urdf.xacro\"\n",
    "# xf5 = \"/opt/ros/overlay_ws/src/suturo_resources/suturo_resources/urdf/urdf_components/suturo_couch.urdf.xacro\"\n",
    "# xf6 = \"/opt/ros/overlay_ws/src/suturo_resources/suturo_resources/urdf/urdf_components/suturo_chair.urdf.xacro\"\n",
    "\n",
    "# xfs2 = [xf4, xf5, xf6]\n",
    "\n",
    "# obj_list2 = [\"kitchen_island\",\"couch\", \"chair\"]\n",
    "# high_list2 = t.highlight_list(xfs2, obj_list2)\n",
    "# print(high_list2)"
   ]
  },
  {
   "cell_type": "markdown",
   "id": "89ae08a9-a6cf-4fe4-babf-5ce15b567241",
   "metadata": {},
   "source": [
    "---\n",
    "---\n",
    "### 3. Trajectories\n"
   ]
  },
  {
   "cell_type": "code",
   "execution_count": 12,
   "id": "bb800f4e-d4f2-4a05-adad-dcfef6bcc3dd",
   "metadata": {},
   "outputs": [],
   "source": [
    "point_list1 = [\n",
    "     (0.54, 0.48, 0.0),\n",
    "     (0.64, 0.42, 0.0),\n",
    "     (0.77, 0.34, 0.0),\n",
    "     (0.91, 0.24, 0.0),\n",
    "     (1.06, 0.11, 0.0),\n",
    "     (1.21, -0.04, 0.0),\n",
    "     (1.32, -0.19, 0.0),\n",
    "     (1.40, -0.34, 0.0),\n",
    "     (1.45, -0.44, 0.0),\n",
    "     (1.46, -0.50, 0.0)\n",
    "]\n",
    "\n",
    "point_list2 = [\n",
    "    (0.6, 0.57, 0.5),\n",
    "    (0.7564, 0.5577, 0.5),\n",
    "    (0.909, 0.5211, 0.5),\n",
    "    (1.0539, 0.461, 0.5),\n",
    "    (1.1878, 0.379, 0.5),\n",
    "    (1.3071, 0.277, 0.5),\n",
    "    (1.409, 0.157, 0.5),\n",
    "    (1.491, 0.023, 0.5),\n",
    "    (1.5511, -0.121, 0.5),\n",
    "    (1.5877, -0.2736, 0.5),\n",
    "    (1.6, -0.43, 0.5)\n",
    "]\n",
    "\n",
    "point_list3 = [\n",
    "     (3.86, 0.32, 0.87),\n",
    "     (3.86, 0.32, 0.8833),\n",
    "     (3.86, 0.32, 0.90),\n",
    "     (3.86, 0.32, 0.9167),\n",
    "     (3.86, 0.32, 0.95),\n",
    "     (3.86, 0.32, 0.95),\n",
    "     (3.91, 0.19, 0.95),\n",
    "     (3.95, -0.12, 0.95),\n",
    "     (4.01, -0.56, 0.95),\n",
    "     (4.17, -0.56, 0.91),\n",
    "     (4.33, -0.56, 0.875),\n",
    "     (4.50, -0.56, 0.86),\n",
    "     (4.63, -0.56, 0.855),\n",
    "     (4.79, -0.40, 0.85),\n",
    "     (4.80, -0.20, 0.85),\n",
    "     (4.81, 0.30, 0.85)\n",
    "]\n",
    "\n",
    "\n",
    "# door_opening_action1 = t.trajectory('door_opening1', point_list1)\n",
    "# print(door_opening_action1)\n",
    "\n",
    "# door_opening_action2 = t.trajectory('door_opening2', point_list2)\n",
    "# print(door_opening_action2)\n",
    "\n",
    "# grasping_action1 = t.trajectory('grasping1', point_list3)\n",
    "# print(grasping_action1)\n",
    "\n",
    "#----------------------------------------------------\n",
    "# action(grasping_pose1, [...])\n",
    "# trajectory([...])\n"
   ]
  },
  {
   "cell_type": "markdown",
   "id": "1b9957d0-75f2-4a5d-b2ba-29b024044fd4",
   "metadata": {},
   "source": [
    "---\n",
    "---\n",
    "### 4. Highlight trajectories"
   ]
  },
  {
   "cell_type": "code",
   "execution_count": 13,
   "id": "92305909-b127-4312-8236-93b197d0a2a0",
   "metadata": {},
   "outputs": [],
   "source": [
    "point_list2 = [\n",
    "    (0.6, 0.57, 0.5),\n",
    "    (0.7564, 0.5577, 0.5),\n",
    "    (0.909, 0.5211, 0.5),\n",
    "    (1.0539, 0.461, 0.5),\n",
    "    (1.1878, 0.379, 0.5),\n",
    "    (1.3071, 0.277, 0.5),\n",
    "    (1.409, 0.157, 0.5),\n",
    "    (1.491, 0.023, 0.5),\n",
    "    (1.5511, -0.121, 0.5),\n",
    "    (1.5877, -0.2736, 0.5),\n",
    "    (1.6, -0.43, 0.5)\n",
    "]\n",
    "\n",
    "point_list3 = [\n",
    "     (3.86, 0.32, 0.87),\n",
    "     (3.86, 0.32, 0.8833),\n",
    "     (3.86, 0.32, 0.90),\n",
    "     (3.86, 0.32, 0.9167),\n",
    "     (3.86, 0.32, 0.95),\n",
    "     (3.86, 0.32, 0.95),\n",
    "     (3.91, 0.19, 0.95),\n",
    "     (3.95, -0.12, 0.95),\n",
    "     (4.01, -0.56, 0.95),\n",
    "     (4.17, -0.56, 0.91),\n",
    "     (4.33, -0.56, 0.875),\n",
    "     (4.50, -0.56, 0.86),\n",
    "     (4.63, -0.56, 0.855),\n",
    "     (4.79, -0.40, 0.85),\n",
    "     (4.80, -0.20, 0.85),\n",
    "     (4.81, 0.30, 0.85)\n",
    "]\n",
    "\n",
    "# highl_door_opening_action2 = t.highlight_trajectory(point_list2)\n",
    "# print(highl_door_opening_action2)\n",
    "\n",
    "# highl_grasping_action1 = t.highlight_trajectory(point_list3)\n",
    "# print(highl_grasping_action1)\n",
    "\n"
   ]
  },
  {
   "cell_type": "markdown",
   "id": "bdc083d7-c24b-413f-890a-bb57fe6b2fc3",
   "metadata": {},
   "source": [
    "---\n",
    "---\n",
    "### 5. Calling Prolog from Python \n",
    "--> calling python lib from prolog"
   ]
  },
  {
   "cell_type": "code",
   "execution_count": 14,
   "id": "f929c24d-fa48-4c63-9c10-468be4b08677",
   "metadata": {},
   "outputs": [],
   "source": [
    "# sys.path.append(\"/home/jovyan/work/src/lib\")\n",
    "# print(sys.path)\n",
    "\n",
    "# import func_lib\n",
    "# print(func_lib)\n",
    "\n",
    "# print(hasattr(func_lib, 'object_pose1'))  # True, wenn die Funktion existiert\n",
    "\n",
    "#------------------------------------------------------\n",
    "\n",
    "# python --> prolog\n",
    "# queries (selbst definiert)\n",
    "# auch benennen: trajectory, highlight, pose\n",
    "\n",
    "# in queries auch lib funcs\n",
    "# prolog --> python \n",
    "# funcs aufrufen "
   ]
  },
  {
   "cell_type": "code",
   "execution_count": 15,
   "id": "c4026234-5c00-4861-ba5d-e84ca77a6255",
   "metadata": {},
   "outputs": [
    {
     "name": "stdout",
     "output_type": "stream",
     "text": [
      "here 1\n",
      "{'truth': True, 'Highlight': 'Highlighted 2 objects simultaneously for 4.0 seconds'}\n",
      "{'truth': True, 'Trajectory': 'Published 11 points for 8.0 seconds'}\n",
      "{'truth': True, 'Highlight': 'Highlighted trajectory with 11 points for 8.0 seconds', 'Trajectory': 'Published 11 points for 8.0 seconds'}\n"
     ]
    }
   ],
   "source": [
    "# t as instance of the class FuncLib\n",
    "\n",
    "janus.consult(\"/home/jovyan/work/prolog/funcs.pl\")\n",
    "\n",
    "# --------------------------------------------------------------------------------------\n",
    "## object_pose(T, ObjectFrame, Pose).\n",
    "#\n",
    "# res1 = janus.query_once(\"object_pose(T,'iai_kitchen/popcorn_table:popcorn_table:table_center', Pose)\",  {'T': t})\n",
    "# print(res1)\n",
    "\n",
    "# res2 = janus.query_once(\"object_pose(T,'iai_kitchen/chair:chair:chair_center', Pose)\",  {'T': t})\n",
    "# print(res2)\n",
    "\n",
    "# --------------------------------------------------------------------------------------\n",
    "## highlight(T, XP, 'couch', Highlight).\n",
    "#\n",
    "# xp = \"/opt/ros/overlay_ws/src/suturo_resources/suturo_resources/urdf/urdf_components/suturo_couch.urdf.xacro\"\n",
    "\n",
    "# res3 = janus.query_once(\"highlight_object(T, XP, 'couch', Highlight)\", {'T': t, 'XP': xp})\n",
    "# print(res3)\n",
    "\n",
    "# --------------------------------------------------------------------------------------\n",
    "## highlight_object_list(T, XP, ObjectList, Highlight).\n",
    "#\n",
    "xp1 = \"/opt/ros/overlay_ws/src/suturo_resources/suturo_resources/urdf/urdf_components/suturo_couch.urdf.xacro\"\n",
    "xp2 = \"/opt/ros/overlay_ws/src/suturo_resources/suturo_resources/urdf/urdf_components/suturo_table.urdf.xacro\"\n",
    "xps = [xp1, xp2]\n",
    "\n",
    "objects = ['couch', 'long_table']\n",
    "\n",
    "res4 = janus.query_once(\"highlight_object_list(T, XP, ObjectList, Highlight)\", {'T': t, 'XP': xps, 'ObjectList': objects})\n",
    "print(res4)\n",
    "\n",
    "# --------------------------------------------------------------------------------------\n",
    "point_list = [\n",
    "    (0.6, 0.57, 0.5),\n",
    "    (0.7564, 0.5577, 0.5),\n",
    "    (0.909, 0.5211, 0.5),\n",
    "    (1.0539, 0.461, 0.5),\n",
    "    (1.1878, 0.379, 0.5),\n",
    "    (1.3071, 0.277, 0.5),\n",
    "    (1.409, 0.157, 0.5),\n",
    "    (1.491, 0.023, 0.5),\n",
    "    (1.5511, -0.121, 0.5),\n",
    "    (1.5877, -0.2736, 0.5),\n",
    "    (1.6, -0.43, 0.5)\n",
    "]\n",
    "\n",
    "## trajectory(ActionY, Points).\n",
    "#\n",
    "res5 = janus.query_once(\"trajectory(T, 'door_opening', PointList, Trajectory)\", {'T': t, 'PointList': point_list})\n",
    "print(res5)\n",
    "\n",
    "# --------------------------------------------------------------------------------------\n",
    "## trajectory(ActionY, Points), highlight_trajectory(Points).\n",
    "#\n",
    "res6 = janus.query_once(\"trajectory(T, 'door_opening', PointList, Trajectory), highlight_trajectory(T, PointList, Highlight)\", {'T': t, 'PointList': point_list})\n",
    "print(res6)\n",
    "\n",
    "\n",
    "# --------------------------------------------------------------------------------------\n",
    "## findall(Schrank, schrank_typ(Schrank, X), Result), highlight(Result).\n",
    "# noch nicht fertig\n",
    "\n",
    "#res7 = janus.query_once(\"findall(), highlight_object_list(T, XP, ObjectList, Highlight)\", {'T': t, 'XP': xps, 'ObjectList': objects})\n",
    "#print(res7)"
   ]
  }
 ],
 "metadata": {
  "kernelspec": {
   "display_name": "Python 3 (ipykernel)",
   "language": "python",
   "name": "python3"
  },
  "language_info": {
   "codemirror_mode": {
    "name": "ipython",
    "version": 3
   },
   "file_extension": ".py",
   "mimetype": "text/x-python",
   "name": "python",
   "nbconvert_exporter": "python",
   "pygments_lexer": "ipython3",
   "version": "3.10.6"
  }
 },
 "nbformat": 4,
 "nbformat_minor": 5
}
