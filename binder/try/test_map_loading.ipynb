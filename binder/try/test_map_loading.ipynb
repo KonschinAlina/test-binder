{
 "cells": [
  {
   "cell_type": "code",
   "execution_count": 1,
   "id": "b55184a4-cee4-4421-93d9-505027cc92da",
   "metadata": {},
   "outputs": [],
   "source": [
    "# %%bash --bg\n",
    "# export DISABLE_ROS1_EOL_WARNINGS=1\n",
    "# rviz --fullscreen -d /home/jovyan/work/binder/rviz_configs/BA_project_setup.rviz"
   ]
  },
  {
   "cell_type": "code",
   "execution_count": 2,
   "id": "32599bd8-a591-4ef9-b29f-071fca91fe6e",
   "metadata": {
    "scrolled": true,
    "tags": []
   },
   "outputs": [],
   "source": [
    "import sys\n",
    "import rospy\n",
    "\n",
    "from knowrob_ros.knowrob_ros_lib import (\n",
    "    KnowRobRosLib,\n",
    "    TripleQueryBuilder,\n",
    "    graph_answer_to_dict,\n",
    "    graph_answers_to_list,\n",
    "    get_default_modalframe,\n",
    ")\n",
    "from knowrob_ros.msg import (\n",
    "    AskAllResult,\n",
    "    AskIncrementalResult,\n",
    "    AskIncrementalNextSolutionResult,\n",
    "    AskOneResult,\n",
    "    TellResult,\n",
    ")\n",
    "\n",
    "from visualization_msgs.msg import Marker\n",
    "from geometry_msgs.msg import Point\n",
    "from std_msgs.msg import Header, ColorRGBA\n",
    "\n",
    "sys.path.append(\"/home/jovyan/work/src/lib\")\n",
    "import janus_swi as janus\n",
    "\n",
    "# import lib with functions for hightlighting, pose, trajectories\n",
    "sys.path.append(\"/home/jovyan/work/src/\") \n",
    "import lib.func_lib as fl\n",
    "t = fl.FuncLib()"
   ]
  },
  {
   "cell_type": "markdown",
   "id": "9d56390b-1ba1-47bd-a74b-e5cbc3d23d49",
   "metadata": {},
   "source": [
    "---\n",
    "### 1. Pose"
   ]
  },
  {
   "cell_type": "code",
   "execution_count": 3,
   "id": "f7fe73bd-662f-4307-bc87-2b9c0777c60c",
   "metadata": {},
   "outputs": [
    {
     "name": "stdout",
     "output_type": "stream",
     "text": [
      "chair pose: \n",
      " ['map', [2.8, 1.3, 0.25], [0.0, 0.0, 0.0, 1.0]]\n"
     ]
    }
   ],
   "source": [
    "# #pose = t.object_pose('http://www.ease-crc.org/ont/SUTURO.owl#Chair')\n",
    "\n",
    "chair_pose = t.object_pose('iai_kitchen/chair:chair:chair_center')\n",
    "print(f\"chair pose: \\n {chair_pose}\")\n",
    "\n",
    "# pct_pose = t. object_pose('iai_kitchen/popcorn_table:popcorn_table:table_center')\n",
    "# print(f\"popcorn_table pose: \\n {pct_pose}\")"
   ]
  },
  {
   "cell_type": "markdown",
   "id": "835238b3-ed3c-4be1-83fa-1f6d3438724b",
   "metadata": {},
   "source": [
    "---\n",
    "---\n",
    "### 2. Highlight"
   ]
  },
  {
   "cell_type": "markdown",
   "id": "0cb7839b-30f6-40c2-a41a-41df1d4da1a0",
   "metadata": {},
   "source": [
    "**2.1 Chair**"
   ]
  },
  {
   "cell_type": "code",
   "execution_count": 4,
   "id": "4dd6554e-c427-4341-b7b4-e332444c0b4d",
   "metadata": {
    "scrolled": true
   },
   "outputs": [],
   "source": [
    "# xf = \"/opt/ros/overlay_ws/src/suturo_resources/suturo_resources/urdf/urdf_components/suturo_chair.urdf.xacro\"\n",
    "\n",
    "# high_chair = t.highlight(xf,\"chair\")\n",
    "# print(high_chair)"
   ]
  },
  {
   "cell_type": "markdown",
   "id": "ef34c88d-4f4f-4562-b1a4-d7b1bb0de8a4",
   "metadata": {},
   "source": [
    "**2.2 popcorn_table**"
   ]
  },
  {
   "cell_type": "code",
   "execution_count": 5,
   "id": "2b6a6968-0620-422d-98d8-50d4bc13b179",
   "metadata": {
    "scrolled": true
   },
   "outputs": [
    {
     "name": "stderr",
     "output_type": "stream",
     "text": [
      "Unknown tag \"sphere_inertia\" in /robot[@name='popcorn_table_wrapper']/link[@name='iai_popcorn_stove_knob_1']\n",
      "Unknown tag \"sphere_inertia\" in /robot[@name='popcorn_table_wrapper']/link[@name='iai_popcorn_stove_knob_2']\n",
      "Unknown tag \"sphere_inertia\" in /robot[@name='popcorn_table_wrapper']/link[@name='iai_popcorn_stove_knob_3']\n"
     ]
    },
    {
     "name": "stdout",
     "output_type": "stream",
     "text": [
      "Highlighted popcorn_table for 4.0 seconds.\n"
     ]
    }
   ],
   "source": [
    "xf = \"/opt/ros/overlay_ws/src/suturo_resources/suturo_resources/urdf/urdf_components/suturo_popcorn_table.urdf.xacro\"\n",
    "\n",
    "high_pop_table = t.highlight(xf,\"popcorn_table\")\n",
    "print(high_pop_table)"
   ]
  },
  {
   "cell_type": "markdown",
   "id": "a81711f9-bfd0-442f-bee5-ae355f33ecf9",
   "metadata": {},
   "source": [
    "**2.3 long_table**"
   ]
  },
  {
   "cell_type": "code",
   "execution_count": 6,
   "id": "1b805b02-16d9-408d-8b0e-e54eee493eb9",
   "metadata": {},
   "outputs": [],
   "source": [
    "# xf = \"/opt/ros/overlay_ws/src/suturo_resources/suturo_resources/urdf/urdf_components/suturo_table.urdf.xacro\"\n",
    "\n",
    "# high_long_table = t.highlight(xf, \"long_table\")\n",
    "# print(high_long_table)\n"
   ]
  },
  {
   "cell_type": "markdown",
   "id": "efa6acb9-f415-40be-8c4c-7447a0553755",
   "metadata": {},
   "source": [
    "**2.4 kitchen_island / kitchen_counter**"
   ]
  },
  {
   "cell_type": "code",
   "execution_count": 7,
   "id": "e29202bb-57d4-4e9a-b4b4-96a583659266",
   "metadata": {},
   "outputs": [],
   "source": [
    "# xf = \"/opt/ros/overlay_ws/src/suturo_resources/suturo_resources/urdf/urdf_components/suturo_table.urdf.xacro\"\n",
    "\n",
    "# high_kitchen_island = t.highlight(xf, \"kitchen_island\")\n",
    "# print(high_kitchen_island)"
   ]
  },
  {
   "cell_type": "markdown",
   "id": "6cbc7e96-3ff5-47e4-be7a-5818d09f17b8",
   "metadata": {},
   "source": [
    "**2.5 couch**"
   ]
  },
  {
   "cell_type": "code",
   "execution_count": 8,
   "id": "6cb92ecc-9900-4ea5-a41b-334ea061ab20",
   "metadata": {},
   "outputs": [],
   "source": [
    "# xf = \"/opt/ros/overlay_ws/src/suturo_resources/suturo_resources/urdf/urdf_components/suturo_couch.urdf.xacro\"\n",
    "\n",
    "# high_couch = t.highlight(xf, \"couch\")\n",
    "# print(high_couch)"
   ]
  },
  {
   "cell_type": "code",
   "execution_count": 9,
   "id": "c35f53de-dabe-4f9e-bdc3-fb13de356644",
   "metadata": {},
   "outputs": [],
   "source": [
    "xf = \"/opt/ros/overlay_ws/src/suturo_resources/suturo_resources/urdf/urdf_components/suturo_dishwasher.urdf.xacro\"\n",
    "\n",
    "# high_dish = t.highlight(xf, \"dishwasher\")\n",
    "# print(high_dish)\n",
    "\n",
    "# high_dish2 = t.highlight(xf, \"suturo_dishwasher\")\n",
    "# print(high_dish2)"
   ]
  },
  {
   "cell_type": "markdown",
   "id": "d608ff23-1990-443f-b63d-5c2faaee0ee0",
   "metadata": {},
   "source": [
    "---\n",
    "---\n",
    "### 2.5 Highlight a list of objects"
   ]
  },
  {
   "cell_type": "markdown",
   "id": "b6954fec-73e1-4189-845e-8589426a22ac",
   "metadata": {},
   "source": [
    "**1. popcorn_table, long_table, kitchen_island**"
   ]
  },
  {
   "cell_type": "code",
   "execution_count": 10,
   "id": "af62d5af-0067-47d2-acbb-aea0e7eb431a",
   "metadata": {},
   "outputs": [
    {
     "name": "stderr",
     "output_type": "stream",
     "text": [
      "Unknown tag \"sphere_inertia\" in /robot[@name='popcorn_table_wrapper']/link[@name='iai_popcorn_stove_knob_1']\n",
      "Unknown tag \"sphere_inertia\" in /robot[@name='popcorn_table_wrapper']/link[@name='iai_popcorn_stove_knob_2']\n",
      "Unknown tag \"sphere_inertia\" in /robot[@name='popcorn_table_wrapper']/link[@name='iai_popcorn_stove_knob_3']\n"
     ]
    },
    {
     "name": "stdout",
     "output_type": "stream",
     "text": [
      "Highlighted 3 objects simultaneously for 4.0 seconds\n"
     ]
    }
   ],
   "source": [
    "xf1 = \"/opt/ros/overlay_ws/src/suturo_resources/suturo_resources/urdf/urdf_components/suturo_table.urdf.xacro\"\n",
    "xf2 = \"/opt/ros/overlay_ws/src/suturo_resources/suturo_resources/urdf/urdf_components/suturo_popcorn_table.urdf.xacro\"\n",
    "\n",
    "xfs1 = [xf1,xf2,xf1]\n",
    "\n",
    "obj_list1 = [\"long_table\", \"popcorn_table\", \"kitchen_island\"]\n",
    "high_list1 = t.highlight_list(xfs1, obj_list1)\n",
    "print(high_list1)"
   ]
  },
  {
   "cell_type": "markdown",
   "id": "76e31f10-5183-4434-8bcd-279cd2034ba7",
   "metadata": {},
   "source": [
    "**2. kitchen_island and couch**"
   ]
  },
  {
   "cell_type": "code",
   "execution_count": 11,
   "id": "113e0087-0f8c-440f-8588-fbda78b1da90",
   "metadata": {},
   "outputs": [],
   "source": [
    "# xf4 = \"/opt/ros/overlay_ws/src/suturo_resources/suturo_resources/urdf/urdf_components/suturo_table.urdf.xacro\"\n",
    "# xf5 = \"/opt/ros/overlay_ws/src/suturo_resources/suturo_resources/urdf/urdf_components/suturo_couch.urdf.xacro\"\n",
    "# xf6 = \"/opt/ros/overlay_ws/src/suturo_resources/suturo_resources/urdf/urdf_components/suturo_chair.urdf.xacro\"\n",
    "\n",
    "# xfs2 = [xf4, xf5, xf6]\n",
    "\n",
    "# obj_list2 = [\"kitchen_island\",\"couch\", \"chair\"]\n",
    "# high_list2 = t.highlight_list(xfs2, obj_list2)\n",
    "# print(high_list2)"
   ]
  },
  {
   "cell_type": "markdown",
   "id": "89ae08a9-a6cf-4fe4-babf-5ce15b567241",
   "metadata": {},
   "source": [
    "---\n",
    "---\n",
    "### 3. Trajectories\n"
   ]
  },
  {
   "cell_type": "code",
   "execution_count": 12,
   "id": "bb800f4e-d4f2-4a05-adad-dcfef6bcc3dd",
   "metadata": {},
   "outputs": [],
   "source": [
    "# points = [(3,2,0), (2,2,0), (2,3,0), (3,3,0), (3,2,0)]\n",
    "# tra = t.trajectory(points)\n",
    "# print(tra)\n",
    "\n",
    "# siehe image nur Punkte, trajectory for motion z.B. Kühlschrank öffnen \n",
    "# action(grasping_pose1, [...])\n",
    "# trajectory([...])\n"
   ]
  },
  {
   "cell_type": "markdown",
   "id": "7734cc22-7a41-4747-bdb2-1d8d93e317f3",
   "metadata": {},
   "source": [
    "---\n",
    "---"
   ]
  },
  {
   "cell_type": "code",
   "execution_count": 13,
   "id": "c4026234-5c00-4861-ba5d-e84ca77a6255",
   "metadata": {},
   "outputs": [],
   "source": [
    "\n",
    "# python --> prolog\n",
    "# queries (selbst definiert)\n",
    "# auch benennen: trajectory, highlight, pose\n",
    "\n",
    "# in queries auch lib funcs\n",
    "# prolog --> python \n",
    "# funcs aufrufen \n",
    "\n",
    "\n",
    "# (z.B. create object und dann lib func für highlight aufrufen)\n",
    "# ----------------------------------------------------------------------\n",
    "\n",
    "\n",
    "# janus.consult(\"/home/jovyan/work/prolog/funcs.pl\")\n",
    "\n",
    "# res2 = janus.query_once(\"Y is sqrt(X)\", {'X':2})\n",
    "# print(res2)\n",
    "\n",
    "# res3 = janus.query_once(\"object_pose_1('iai_kitchen/chair:chair:chair_center', Pose)\")\n",
    "# print(res3)\n"
   ]
  }
 ],
 "metadata": {
  "kernelspec": {
   "display_name": "Python 3 (ipykernel)",
   "language": "python",
   "name": "python3"
  },
  "language_info": {
   "codemirror_mode": {
    "name": "ipython",
    "version": 3
   },
   "file_extension": ".py",
   "mimetype": "text/x-python",
   "name": "python",
   "nbconvert_exporter": "python",
   "pygments_lexer": "ipython3",
   "version": "3.10.6"
  }
 },
 "nbformat": 4,
 "nbformat_minor": 5
}
