{
 "cells": [
  {
   "cell_type": "code",
   "execution_count": 1,
   "id": "32599bd8-a591-4ef9-b29f-071fca91fe6e",
   "metadata": {
    "scrolled": true,
    "tags": []
   },
   "outputs": [
    {
     "ename": "ModuleNotFoundError",
     "evalue": "No module named 'rosprolog_client'",
     "output_type": "error",
     "traceback": [
      "\u001b[0;31m---------------------------------------------------------------------------\u001b[0m",
      "\u001b[0;31mModuleNotFoundError\u001b[0m                       Traceback (most recent call last)",
      "Cell \u001b[0;32mIn [1], line 3\u001b[0m\n\u001b[1;32m      1\u001b[0m \u001b[38;5;28;01mimport\u001b[39;00m \u001b[38;5;21;01msys\u001b[39;00m\n\u001b[1;32m      2\u001b[0m \u001b[38;5;28;01mimport\u001b[39;00m \u001b[38;5;21;01mrospy\u001b[39;00m\n\u001b[0;32m----> 3\u001b[0m \u001b[38;5;28;01mimport\u001b[39;00m \u001b[38;5;21;01mrosprolog_client\u001b[39;00m\n\u001b[1;32m      4\u001b[0m client \u001b[38;5;241m=\u001b[39m rosprolog_client\u001b[38;5;241m.\u001b[39mProlog()\n\u001b[1;32m      6\u001b[0m \u001b[38;5;28;01mfrom\u001b[39;00m \u001b[38;5;21;01mvisualization_msgs\u001b[39;00m\u001b[38;5;21;01m.\u001b[39;00m\u001b[38;5;21;01mmsg\u001b[39;00m \u001b[38;5;28;01mimport\u001b[39;00m Marker\n",
      "\u001b[0;31mModuleNotFoundError\u001b[0m: No module named 'rosprolog_client'"
     ]
    }
   ],
   "source": [
    "import sys\n",
    "import rospy\n",
    "import rosprolog_client\n",
    "client = rosprolog_client.Prolog()\n",
    "\n",
    "from visualization_msgs.msg import Marker\n",
    "from geometry_msgs.msg import Point\n",
    "from std_msgs.msg import Header, ColorRGBA\n",
    "#from suturo_knowledge.interf_q import InterfacePlanningKnowledge \n",
    "\n",
    "# Beispiel: rote Kiste mit Markern darstellen\n",
    "pub = rospy.Publisher('visualization_marker', Marker, queue_size=10)\n",
    "rospy.init_node('marker_publisher', anonymous=True)\n",
    "\n",
    "rospy.sleep(1.0)\n",
    "\n",
    "marker = Marker()\n",
    "marker.header.frame_id = \"map\"\n",
    "marker.header.stamp = rospy.Time.now()\n",
    "marker.ns = \"my_objects\"\n",
    "marker.id = 0\n",
    "marker.type = Marker.CUBE\n",
    "marker.action = Marker.ADD\n",
    "\n",
    "marker.pose.position.x = 1.0\n",
    "marker.pose.position.y = 2.0\n",
    "marker.pose.position.z = 0.5\n",
    "marker.pose.orientation.w = 1.0\n",
    "\n",
    "marker.scale.x = 0.5\n",
    "marker.scale.y = 0.5\n",
    "marker.scale.z = 0.5\n",
    "\n",
    "marker.color = ColorRGBA(1.0, 0.0, 0.0, 0.8)\n",
    "\n",
    "pub.publish(marker)\n",
    "print(\"Marker published!\")\n",
    "\n",
    "print(client.all_solutions(\"member(1, [1,2,3]).\"))\n",
    "print(client.once(\"member(X, [1,2,3]).\"))\n",
    "print(client.once(\"member(4, [1,2,3]).\"))\n",
    "print(client.all_solutions(\"instance_of(Instance, soma:'Milk').\"))\n",
    "#print(client.once(f\"create_object(Object, suturo:'Lemon', [map,[0.0,0.0,0.0],[0.0,0.0,0.0,1.0], shape(box(0.5,0.5,0.5))]).\"))\n",
    "#print(client.once(f\"what_object(milk, Object).\"))\n",
    "print(client.once(\"current_predicate(create_object/3).\"))\n",
    "\n",
    "res = client.query(\"owl_individual_of(A, knowrob:'Table'),has_pose(A, [X,Y,Z|_])\")\n",
    "\n",
    "# Nun: semantic map reinladen??\n",
    "#print(client.once(f\"is_kitchen(K).\"))"
   ]
  },
  {
   "cell_type": "code",
   "execution_count": 3,
   "id": "051d0590-9520-4146-93f8-3662d601f010",
   "metadata": {},
   "outputs": [],
   "source": [
    "%%bash --bg\n",
    "export DISABLE_ROS1_EOL_WARNINGS=1\n",
    "rviz --fullscreen -d /home/jovyan/work/binder/rviz_configs/BA_project_setup.rviz"
   ]
  }
 ],
 "metadata": {
  "kernelspec": {
   "display_name": "Python 3 (ipykernel)",
   "language": "python",
   "name": "python3"
  },
  "language_info": {
   "codemirror_mode": {
    "name": "ipython",
    "version": 3
   },
   "file_extension": ".py",
   "mimetype": "text/x-python",
   "name": "python",
   "nbconvert_exporter": "python",
   "pygments_lexer": "ipython3",
   "version": "3.10.6"
  }
 },
 "nbformat": 4,
 "nbformat_minor": 5
}
